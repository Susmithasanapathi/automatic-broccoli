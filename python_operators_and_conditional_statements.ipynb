{
  "cells": [
    {
      "cell_type": "markdown",
      "metadata": {
        "id": "view-in-github",
        "colab_type": "text"
      },
      "source": [
        "<a href=\"https://colab.research.google.com/github/Susmithasanapathi/automatic-broccoli/blob/main/python_operators_and_conditional_statements.ipynb\" target=\"_parent\"><img src=\"https://colab.research.google.com/assets/colab-badge.svg\" alt=\"Open In Colab\"/></a>"
      ]
    },
    {
      "cell_type": "markdown",
      "metadata": {
        "id": "jho3JuqSxqaR"
      },
      "source": [
        "# OPERATORS\n",
        "\n",
        "\n",
        "\n",
        "*operators are used to perform operations on variables\n",
        "\n",
        "*There are seven types of operators.\n",
        "\n",
        "1.Arithmatic operators\n",
        "\n",
        "2.Relational operators or comparison operators\n",
        "\n",
        "3.Logical operators\n",
        "\n",
        "4.Identity operators\n",
        "\n",
        "5.Membership operators\n",
        "\n",
        "6.Assignment operators\n",
        "\n",
        "7.Bitwise operators\n",
        "\n",
        "\n",
        "\n"
      ]
    },
    {
      "cell_type": "markdown",
      "metadata": {
        "id": "XzqCvWCuzrGL"
      },
      "source": [
        "# ARITHMATIC OPERATORS\n",
        "\n",
        "  \n",
        "\n",
        "*   Arithmatic operators is used to perform mathematical operations.\n",
        "\n",
        "1.addition : It is denoted by '+' operator.\n",
        "\n",
        "2.Subtraction: It is denoted by '-' operator\n",
        "\n",
        "3.Multiplication: It is denoted by '*' operator\n",
        "\n",
        "4.Division:It is denoted by '/' operator\n",
        "\n",
        "5.Modulus:It is denoted by '%' operator\n",
        "\n",
        "6.Exponentiation:It is denoted by '**' operator\n",
        "\n",
        "7.Floor Division:It is denoted by '//' operator\n",
        "\n",
        "\n"
      ]
    },
    {
      "cell_type": "markdown",
      "metadata": {
        "id": "Fn-YUd16zmQA"
      },
      "source": [
        "# Example of Arithmatic operator\n"
      ]
    },
    {
      "cell_type": "code",
      "execution_count": null,
      "metadata": {
        "colab": {
          "base_uri": "https://localhost:8080/"
        },
        "id": "oHNXFNz111gi",
        "outputId": "e70f0982-8c2a-477f-fe18-9d8eb3629609"
      },
      "outputs": [
        {
          "name": "stdout",
          "output_type": "stream",
          "text": [
            "13\n",
            "7\n",
            "30\n",
            "3.3333333333333335\n",
            "1\n",
            "1000\n",
            "3\n"
          ]
        }
      ],
      "source": [
        "a = 10\n",
        "b = 3\n",
        "\n",
        "print(a + b)\n",
        "print(a - b)\n",
        "print(a * b)\n",
        "print(a / b)\n",
        "print(a % b)\n",
        "print(a ** b)\n",
        "print(a // b)\n"
      ]
    },
    {
      "cell_type": "markdown",
      "metadata": {
        "id": "zrPCG6AjzgVZ"
      },
      "source": [
        "# Relational operators or comparison operators\n",
        "\n",
        "Used to compare two values.\n",
        "\n",
        "Equal: ==\n",
        "\n",
        "Not equal: !=\n",
        "\n",
        "Greater than: >\n",
        "\n",
        "Less than: <\n",
        "\n",
        "Greater than or equal to: >=\n",
        "\n",
        "Less than or equal to: <=\n"
      ]
    },
    {
      "cell_type": "markdown",
      "metadata": {
        "id": "qcM59TAq3Hz-"
      },
      "source": [
        "# Example of comparison operator"
      ]
    },
    {
      "cell_type": "code",
      "execution_count": null,
      "metadata": {
        "colab": {
          "base_uri": "https://localhost:8080/"
        },
        "id": "SBdVtNb33U71",
        "outputId": "e8a25f0a-bdd6-4986-c82d-8c97da5efca4"
      },
      "outputs": [
        {
          "name": "stdout",
          "output_type": "stream",
          "text": [
            "False\n",
            "True\n",
            "True\n",
            "False\n",
            "True\n",
            "False\n"
          ]
        }
      ],
      "source": [
        "a = 10\n",
        "b = 3\n",
        "\n",
        "print(a == b)\n",
        "print(a != b)\n",
        "print(a > b)\n",
        "print(a < b)\n",
        "print(a >= b)\n",
        "print(a <= b)\n"
      ]
    },
    {
      "cell_type": "markdown",
      "metadata": {
        "id": "NoJlILwG3dtQ"
      },
      "source": [
        "#  Logical Operators\n",
        "\n",
        "\n",
        "Used to combine conditional statements.\n",
        "\n",
        "\n",
        "\n",
        "\n",
        "\n",
        "and: It is denoted by 'and'\n",
        "\n",
        "or: It is denoted by 'or'\n",
        "**bold text**\n",
        "not:It is denoted by 'not'"
      ]
    },
    {
      "cell_type": "code",
      "execution_count": null,
      "metadata": {
        "colab": {
          "base_uri": "https://localhost:8080/"
        },
        "id": "hhbI-rfa4Bdi",
        "outputId": "2b364a94-4fb9-4ce9-9ba4-a1c04d13b503"
      },
      "outputs": [
        {
          "name": "stdout",
          "output_type": "stream",
          "text": [
            "True\n",
            "True\n",
            "False\n"
          ]
        }
      ],
      "source": [
        "x=5\n",
        "print(x>3 and x<10)\n",
        "print(x<3 or x<10)\n",
        "print(not(x>3 and x<10))"
      ]
    },
    {
      "cell_type": "markdown",
      "metadata": {
        "id": "IGoWllZt5A3G"
      },
      "source": [
        "# Identity operators\n",
        "\n",
        "\n",
        "Identity operators are used to compare the memory locations of two objects.\n",
        "\n",
        "1.is: Returns True if both variables point to the same object.\n",
        "\n",
        "2.is not: Returns True if both variables do not point to the same object.\n"
      ]
    },
    {
      "cell_type": "code",
      "execution_count": null,
      "metadata": {
        "colab": {
          "base_uri": "https://localhost:8080/"
        },
        "id": "Tr2viOFo51c7",
        "outputId": "4a3ea268-8cd6-47cf-9f69-76d12dee8d0e"
      },
      "outputs": [
        {
          "name": "stdout",
          "output_type": "stream",
          "text": [
            "True\n",
            "False\n",
            "True\n"
          ]
        }
      ],
      "source": [
        "a = [1, 2, 3]\n",
        "b = a\n",
        "c = [1, 2, 3]\n",
        "\n",
        "print(a is b)\n",
        "print(a is c)\n",
        "print(a is not c)"
      ]
    },
    {
      "cell_type": "markdown",
      "metadata": {
        "id": "2mRGugc55_b3"
      },
      "source": [
        "# Membership operator\n",
        "\n",
        "Membership operators are used to test whether a value or variable is found in a sequence\n",
        "\n",
        "in: Returns True if the value is found in the sequence.\n",
        "not in: Returns True if the value is not found in the sequence."
      ]
    },
    {
      "cell_type": "code",
      "execution_count": null,
      "metadata": {
        "colab": {
          "base_uri": "https://localhost:8080/"
        },
        "id": "98M9HjBR-Odm",
        "outputId": "eedd7ddf-a3c2-49c7-d09d-527d384cadd1"
      },
      "outputs": [
        {
          "name": "stdout",
          "output_type": "stream",
          "text": [
            "True\n",
            "True\n"
          ]
        }
      ],
      "source": [
        "a = [1, 2, 3, 4, 5]\n",
        "print(3 in a)\n",
        "print(6 not in a)"
      ]
    },
    {
      "cell_type": "markdown",
      "metadata": {
        "id": "fGjaN_GN-Z2i"
      },
      "source": [
        "# Assignment operator\n",
        "\n",
        "\\Used to assign values to variables.\n",
        "\n",
        "Equals:=\n",
        "\n",
        "Add and: +=\n",
        "\n",
        "Subtract and: -=\n",
        "\n",
        "Multiply and: *=\n",
        "\n",
        "Divide and: /=\n",
        "\n",
        "Modulus and: %=\n",
        "\n",
        "Exponent and: **=\n",
        "\n",
        "Floor division and: //="
      ]
    },
    {
      "cell_type": "code",
      "execution_count": null,
      "metadata": {
        "colab": {
          "base_uri": "https://localhost:8080/"
        },
        "id": "s4_5iSu7_M7o",
        "outputId": "e846aa2e-dd92-4c07-b107-404fd6ec80ee"
      },
      "outputs": [
        {
          "name": "stdout",
          "output_type": "stream",
          "text": [
            "13\n",
            "10\n",
            "30\n",
            "10.0\n",
            "1.0\n",
            "1.0\n",
            "0.0\n"
          ]
        }
      ],
      "source": [
        "a = 10\n",
        "\n",
        "a += 3\n",
        "print(a)\n",
        "\n",
        "a -= 3\n",
        "print(a)\n",
        "\n",
        "a *= 3\n",
        "print(a)\n",
        "\n",
        "a /= 3\n",
        "print(a)\n",
        "\n",
        "a %= 3\n",
        "print(a)\n",
        "\n",
        "a **= 3\n",
        "print(a)\n",
        "\n",
        "a //= 3\n",
        "print(a)\n"
      ]
    },
    {
      "cell_type": "markdown",
      "metadata": {
        "id": "NDbGFEnn_eB-"
      },
      "source": [
        "# Bitwise operator"
      ]
    },
    {
      "cell_type": "markdown",
      "metadata": {
        "id": "hIPeJKLt_kXo"
      },
      "source": [
        "Used to perform bit-level operations.\n",
        "\n",
        "AND: &\n",
        "\n",
        "OR: |\n",
        "\n",
        "XOR: ^\n",
        "\n",
        "NOT: ~\n",
        "\n",
        "Left Shift: <<\n",
        "\n",
        "Right Shift: >>"
      ]
    },
    {
      "cell_type": "code",
      "execution_count": null,
      "metadata": {
        "colab": {
          "base_uri": "https://localhost:8080/"
        },
        "id": "KTQCYaTdBJ9N",
        "outputId": "df0b634b-ffb3-47d1-ef70-6336a3645dd8"
      },
      "outputs": [
        {
          "name": "stdout",
          "output_type": "stream",
          "text": [
            "0\n",
            "14\n",
            "14\n",
            "-11\n",
            "40\n",
            "2\n"
          ]
        }
      ],
      "source": [
        "a = 10\n",
        "b = 4\n",
        "\n",
        "print(a & b)\n",
        "print(a | b)\n",
        "print(a ^ b)\n",
        "print(~a)\n",
        "print(a << 2)\n",
        "print(a >> 2)\n"
      ]
    },
    {
      "cell_type": "markdown",
      "metadata": {
        "id": "PPnV3znXBnAN"
      },
      "source": [
        "# Conditional statements\n",
        "\n",
        "1.if\n",
        "\n",
        "2.if else\n",
        "\n",
        "3.if elif else\n",
        "\n",
        "4.nested if\n",
        "\n",
        "5.ternary operator or equality operator\n"
      ]
    },
    {
      "cell_type": "markdown",
      "metadata": {
        "id": "dzRQt_dFC_Wo"
      },
      "source": [
        "# if statement\n",
        "\n",
        "Used to execute a block of code if a condition is true.\n"
      ]
    },
    {
      "cell_type": "code",
      "execution_count": null,
      "metadata": {
        "colab": {
          "base_uri": "https://localhost:8080/"
        },
        "id": "hiHxXbOODXAP",
        "outputId": "11351f03-c3ec-403d-ddd6-f849a772e5bd"
      },
      "outputs": [
        {
          "name": "stdout",
          "output_type": "stream",
          "text": [
            "a is greater than 5\n"
          ]
        }
      ],
      "source": [
        "a = 10\n",
        "\n",
        "if a > 5:\n",
        "    print(\"a is greater than 5\")\n"
      ]
    },
    {
      "cell_type": "markdown",
      "metadata": {
        "id": "Ccsa6u-5DfE4"
      },
      "source": [
        "# if else\n",
        "\n",
        "\n",
        "Used to execute one block of code if a condition is true and another block of code if the condition is false.\n"
      ]
    },
    {
      "cell_type": "code",
      "execution_count": null,
      "metadata": {
        "colab": {
          "base_uri": "https://localhost:8080/"
        },
        "id": "PLVGn2BPD1P_",
        "outputId": "b317cab6-58fb-4f66-f983-61e1ccfdced1"
      },
      "outputs": [
        {
          "name": "stdout",
          "output_type": "stream",
          "text": [
            "a is not greater than 5\n"
          ]
        }
      ],
      "source": [
        "a = 3\n",
        "\n",
        "if a > 5:\n",
        "    print(\"a is greater than 5\")\n",
        "else:\n",
        "    print(\"a is not greater than 5\")\n"
      ]
    },
    {
      "cell_type": "markdown",
      "metadata": {
        "id": "tHA1MdFtD58h"
      },
      "source": [
        "# if elif else\n",
        "\n",
        "It is used test multiple conditions.\n"
      ]
    },
    {
      "cell_type": "code",
      "execution_count": null,
      "metadata": {
        "colab": {
          "base_uri": "https://localhost:8080/"
        },
        "id": "PUM1FOdiEROb",
        "outputId": "925c7c1b-529f-4357-f80f-6b2689c2c890"
      },
      "outputs": [
        {
          "name": "stdout",
          "output_type": "stream",
          "text": [
            "a is equal to 5\n"
          ]
        }
      ],
      "source": [
        "a = 5\n",
        "\n",
        "if a > 5:\n",
        "    print(\"a is greater than 5\")\n",
        "elif a == 5:\n",
        "    print(\"a is equal to 5\")\n",
        "else:\n",
        "    print(\"a is less than 5\")\n"
      ]
    },
    {
      "cell_type": "markdown",
      "metadata": {
        "id": "kVM6t3HFEZAk"
      },
      "source": [
        "# nested if\n",
        "\n",
        "\n",
        "You can use if statements inside another if statement."
      ]
    },
    {
      "cell_type": "code",
      "execution_count": null,
      "metadata": {
        "colab": {
          "base_uri": "https://localhost:8080/"
        },
        "id": "l1oKuHSFEope",
        "outputId": "bd655d51-3151-4c29-e97a-bca1487e837c"
      },
      "outputs": [
        {
          "name": "stdout",
          "output_type": "stream",
          "text": [
            "a is greater than 5 and b is greater than 3\n"
          ]
        }
      ],
      "source": [
        "a = 10\n",
        "b = 5\n",
        "\n",
        "if a > 5:\n",
        "    if b > 3:\n",
        "        print(\"a is greater than 5 and b is greater than 3\")\n"
      ]
    },
    {
      "cell_type": "markdown",
      "metadata": {
        "id": "Q1NJcHiKExNM"
      },
      "source": [
        "# **Ternary conditional Operator or equality operator **\n",
        "\n",
        "\n",
        "Allows you to make a decision in a single line.\n"
      ]
    },
    {
      "cell_type": "code",
      "execution_count": null,
      "metadata": {
        "colab": {
          "base_uri": "https://localhost:8080/"
        },
        "id": "7XxFOXRlFWeK",
        "outputId": "a6de92b4-1a9b-4fda-eb29-b7b26fe857f4"
      },
      "outputs": [
        {
          "name": "stdout",
          "output_type": "stream",
          "text": [
            "a is even\n"
          ]
        }
      ],
      "source": [
        "a = 10\n",
        "result = \"a is even\" if a % 2 == 0 else \"a is odd\"\n",
        "print(result)\n"
      ]
    },
    {
      "cell_type": "markdown",
      "metadata": {
        "id": "pCJtInyDsqS_"
      },
      "source": [
        "# LOOPS"
      ]
    },
    {
      "cell_type": "markdown",
      "metadata": {
        "id": "9ST3uovFtNSN"
      },
      "source": [
        "Loops in Python are fundamental for executing a block of code repeatedly. Here are the two main types of loops: for loops and while loops.\n",
        "\n",
        "\n",
        "# while loop\n",
        "While loops execute a block of code as long as a specified condition is true."
      ]
    },
    {
      "cell_type": "code",
      "execution_count": null,
      "metadata": {
        "colab": {
          "base_uri": "https://localhost:8080/"
        },
        "id": "-StQG0vftjMA",
        "outputId": "f7e00213-1665-4cb4-920d-4fb0eaac8c2d"
      },
      "outputs": [
        {
          "name": "stdout",
          "output_type": "stream",
          "text": [
            "5\n",
            "6\n",
            "7\n",
            "8\n"
          ]
        }
      ],
      "source": [
        "num=int(input())\n",
        "counter=0\n",
        "while (counter<3):\n",
        "  num=num+1\n",
        "  print(num)\n",
        "  counter=counter+1\n"
      ]
    },
    {
      "cell_type": "markdown",
      "metadata": {
        "id": "bKbnOVhXuRgc"
      },
      "source": [
        "# for loop\n",
        "\n",
        "\n",
        "for loop is used execute over a sequence.\n"
      ]
    },
    {
      "cell_type": "code",
      "execution_count": null,
      "metadata": {
        "colab": {
          "base_uri": "https://localhost:8080/"
        },
        "id": "DDXyxJYnur4z",
        "outputId": "91a9f7d9-7164-4014-f042-70f4179b9e5d"
      },
      "outputs": [
        {
          "name": "stdout",
          "output_type": "stream",
          "text": [
            "5\n",
            "0\n",
            "1\n",
            "2\n",
            "3\n",
            "4\n"
          ]
        }
      ],
      "source": [
        "n=int(input())\n",
        "for i in range(n):\n",
        "  print(i)"
      ]
    },
    {
      "cell_type": "code",
      "execution_count": null,
      "metadata": {
        "colab": {
          "base_uri": "https://localhost:8080/"
        },
        "id": "Qki2OUeMu-2Z",
        "outputId": "c70b02b4-d611-4db7-9949-af7777e2ffb7"
      },
      "outputs": [
        {
          "name": "stdout",
          "output_type": "stream",
          "text": [
            "python\n",
            "p\n",
            "y\n",
            "t\n",
            "h\n",
            "o\n",
            "n\n"
          ]
        }
      ],
      "source": [
        "word=input()\n",
        "for eachword in word:\n",
        "  print(eachword)"
      ]
    },
    {
      "cell_type": "markdown",
      "metadata": {
        "id": "nkCm1Yv4CWDD"
      },
      "source": [
        "# lists\n",
        "\n",
        "\n",
        "\n",
        "\n",
        "*   Lists are used to store multiple items in a single variable.\n",
        "\n",
        "\n",
        "*   Python used to store collections of data\n",
        "*   There are three types of built in datatypes\n",
        "\n",
        "\n",
        "*   tuples\n",
        "*   set\n",
        "*   dictionary\n",
        "\n",
        "\n",
        "\n",
        "\n",
        "\n",
        "\n",
        "\n"
      ]
    },
    {
      "cell_type": "markdown",
      "metadata": {
        "id": "f8y-qNPVzu63"
      },
      "source": [
        "# creating list\n",
        "\n",
        "You can create a list by placing items inside square brackets [], separated by commas.\n",
        "\n"
      ]
    },
    {
      "cell_type": "code",
      "execution_count": null,
      "metadata": {
        "id": "VesAIcWNDU9T"
      },
      "outputs": [],
      "source": [
        "# A list of integers\n",
        "numbers = [1, 2, 3, 4, 5]\n",
        "\n",
        "# A list of strings\n",
        "fruits = [\"apple\", \"banana\", \"cherry\"]\n",
        "\n",
        "# A mixed data type list\n",
        "mixed = [1, \"hello\", 3.14, True]\n"
      ]
    },
    {
      "cell_type": "markdown",
      "metadata": {
        "id": "5pxUYurfClgY"
      },
      "source": [
        "# Accessing Elements\n",
        "\n",
        "You can access elements in a list using their index, with the first element having an index of 0"
      ]
    },
    {
      "cell_type": "code",
      "execution_count": null,
      "metadata": {
        "colab": {
          "base_uri": "https://localhost:8080/"
        },
        "id": "YOQpWLcy0QPZ",
        "outputId": "45bddfde-814c-4805-83da-5ee263231267"
      },
      "outputs": [
        {
          "name": "stdout",
          "output_type": "stream",
          "text": [
            "1\n",
            "banana\n"
          ]
        }
      ],
      "source": [
        "print(numbers[0])  # Outputs: 1\n",
        "print(fruits[1])   # Outputs: banana\n"
      ]
    },
    {
      "cell_type": "markdown",
      "metadata": {
        "id": "yBPh0J1l0Vtu"
      },
      "source": [
        "# modifying elements\n",
        "\n",
        "Lists are mutable, so you can change the value of an element"
      ]
    },
    {
      "cell_type": "code",
      "execution_count": null,
      "metadata": {
        "colab": {
          "base_uri": "https://localhost:8080/"
        },
        "id": "mg-5oHAo0heQ",
        "outputId": "cf3fc9b7-f9fd-4e28-bf85-333f3a9e1a51"
      },
      "outputs": [
        {
          "name": "stdout",
          "output_type": "stream",
          "text": [
            "['apple', 'orange', 'cherry']\n"
          ]
        }
      ],
      "source": [
        "fruits[1] = \"orange\"\n",
        "print(fruits)  # Outputs: ['apple', 'orange', 'cherry']\n"
      ]
    },
    {
      "cell_type": "markdown",
      "metadata": {
        "id": "An3gACrd1C_b"
      },
      "source": [
        "# Adding Elements\n",
        "\n",
        "\n",
        "Append: Adds an element to the end of the list.\n",
        "\n",
        "\n",
        "Insert: Inserts an element at a specified index.\n",
        "python\n",
        "\n",
        "\n",
        "\n",
        "\n",
        "\n",
        "\n",
        "\n"
      ]
    },
    {
      "cell_type": "code",
      "execution_count": null,
      "metadata": {
        "colab": {
          "base_uri": "https://localhost:8080/"
        },
        "id": "cEQrl8Qh1bSc",
        "outputId": "39dbf25f-aed2-44d9-b44d-b53b40234e24"
      },
      "outputs": [
        {
          "name": "stdout",
          "output_type": "stream",
          "text": [
            "[1, 2, 3, 4, 5, 6]\n",
            "['apple', 'blueberry', 'orange', 'cherry']\n"
          ]
        }
      ],
      "source": [
        "numbers.append(6)\n",
        "print(numbers)  # Outputs: [1, 2, 3, 4, 5, 6]\n",
        "\n",
        "fruits.insert(1, \"blueberry\")\n",
        "print(fruits)  # Outputs: ['apple', 'blueberry', 'orange', 'cherry']\n"
      ]
    },
    {
      "cell_type": "markdown",
      "metadata": {
        "id": "qDmWSg4u1pJj"
      },
      "source": [
        "# Removing Elements\n",
        "\n",
        "\n",
        "Remove: Removes the first occurrence of a value.\n",
        "\n",
        "\n",
        "Pop: Removes an element at a specified index (or the last element if no index is specified).\n",
        "\n",
        "\n",
        "Del: Deletes an element or slice by index."
      ]
    },
    {
      "cell_type": "code",
      "execution_count": null,
      "metadata": {
        "colab": {
          "base_uri": "https://localhost:8080/"
        },
        "id": "80UKo6q610om",
        "outputId": "bfccddf6-f6e0-4fd1-c7db-458b39efe2b6"
      },
      "outputs": [
        {
          "name": "stdout",
          "output_type": "stream",
          "text": [
            "['apple', 'blueberry', 'cherry']\n",
            "cherry\n",
            "['apple', 'blueberry']\n",
            "[1, 2, 4, 5, 6]\n"
          ]
        }
      ],
      "source": [
        "fruits.remove(\"orange\")\n",
        "print(fruits)  # Outputs: ['apple', 'blueberry', 'cherry']\n",
        "\n",
        "last_fruit = fruits.pop()\n",
        "print(last_fruit)  # Outputs: cherry\n",
        "print(fruits)      # Outputs: ['apple', 'blueberry']\n",
        "\n",
        "del numbers[2]\n",
        "print(numbers)  # Outputs: [1, 2, 4, 5, 6]\n"
      ]
    },
    {
      "cell_type": "markdown",
      "metadata": {
        "id": "76peN46w2zj4"
      },
      "source": [
        "# List Methods\n",
        "\n",
        "Python lists come with several built-in methods:\n",
        "\n",
        "sort(): Sorts the list in ascending order.\n",
        "\n",
        "reverse(): Reverses the order of the list.\n",
        "\n",
        "index(): Returns the index of the first occurrence of a value.\n",
        "\n",
        "count(): Counts the number of occurrences of a value\n",
        "\n"
      ]
    },
    {
      "cell_type": "code",
      "execution_count": null,
      "metadata": {
        "colab": {
          "base_uri": "https://localhost:8080/"
        },
        "id": "eiprc9K43DV6",
        "outputId": "f446ad11-9c29-40d4-d375-e13526f6bf73"
      },
      "outputs": [
        {
          "name": "stdout",
          "output_type": "stream",
          "text": [
            "[1, 2, 4, 5, 6]\n",
            "[6, 5, 4, 2, 1]\n",
            "2\n",
            "1\n"
          ]
        }
      ],
      "source": [
        "numbers.sort()\n",
        "print(numbers)  # Outputs: [1, 2, 4, 5, 6]\n",
        "\n",
        "numbers.reverse()\n",
        "print(numbers)  # Outputs: [6, 5, 4, 2, 1]\n",
        "\n",
        "index_of_4 = numbers.index(4)\n",
        "print(index_of_4)  # Outputs: 2\n",
        "\n",
        "count_of_5 = numbers.count(5)\n",
        "print(count_of_5)  # Outputs: 1\n"
      ]
    },
    {
      "cell_type": "markdown",
      "metadata": {
        "id": "gpHEVXo63NSZ"
      },
      "source": [
        "# List Comprehension\n",
        "\n",
        "List comprehensions provide a concise way to create lists."
      ]
    },
    {
      "cell_type": "code",
      "execution_count": null,
      "metadata": {
        "colab": {
          "base_uri": "https://localhost:8080/"
        },
        "id": "y83O3WJS3VBr",
        "outputId": "0a16d2de-318f-42f0-bc96-dd392053eaef"
      },
      "outputs": [
        {
          "name": "stdout",
          "output_type": "stream",
          "text": [
            "[1, 4, 9, 16, 25]\n"
          ]
        }
      ],
      "source": [
        "squares = [x**2 for x in range(1, 6)]\n",
        "print(squares)  # Outputs: [1, 4, 9, 16, 25]\n"
      ]
    },
    {
      "cell_type": "markdown",
      "metadata": {
        "id": "-Lk-oTqZ3690"
      },
      "source": [
        "# Tuples\n",
        "\n",
        "A tuple is an immutable, ordered collection of items. Once created, the elements of a tuple cannot be changed, added, or removed.\n"
      ]
    },
    {
      "cell_type": "markdown",
      "metadata": {
        "id": "DgVAqAeI4XkT"
      },
      "source": [
        "# Creating a Tuple\n",
        "\n",
        "You can create a tuple by placing items inside parentheses () separated by commas."
      ]
    },
    {
      "cell_type": "code",
      "execution_count": null,
      "metadata": {
        "id": "YSQG2YWh4iIl"
      },
      "outputs": [],
      "source": [
        "# A tuple of integers\n",
        "numbers = (1, 2, 3, 4, 5)\n",
        "\n",
        "# A tuple of strings\n",
        "fruits = (\"apple\", \"banana\", \"cherry\")\n",
        "\n",
        "# A mixed data type tuple\n",
        "mixed = (1, \"hello\", 3.14, True)\n",
        "\n",
        "# A single-element tuple (note the comma)\n",
        "single_element = (42,)\n"
      ]
    },
    {
      "cell_type": "markdown",
      "metadata": {
        "id": "mA1jblYI4s-C"
      },
      "source": [
        "# Tuples Are Immutable\n",
        "\n",
        "Tuples cannot be changed once created. Attempting to modify, add, or remove elements will result in an error."
      ]
    },
    {
      "cell_type": "code",
      "execution_count": null,
      "metadata": {
        "colab": {
          "base_uri": "https://localhost:8080/",
          "height": 176
        },
        "id": "TtQHHOFj4_aV",
        "outputId": "3dc42c1b-c57f-4fb4-bbd1-8604d2b9864d"
      },
      "outputs": [
        {
          "ename": "TypeError",
          "evalue": "'tuple' object does not support item assignment",
          "output_type": "error",
          "traceback": [
            "\u001b[0;31m---------------------------------------------------------------------------\u001b[0m",
            "\u001b[0;31mTypeError\u001b[0m                                 Traceback (most recent call last)",
            "\u001b[0;32m<ipython-input-10-3af06b4f4e2d>\u001b[0m in \u001b[0;36m<cell line: 2>\u001b[0;34m()\u001b[0m\n\u001b[1;32m      1\u001b[0m \u001b[0;31m# This will raise an error\u001b[0m\u001b[0;34m\u001b[0m\u001b[0;34m\u001b[0m\u001b[0m\n\u001b[0;32m----> 2\u001b[0;31m \u001b[0mnumbers\u001b[0m\u001b[0;34m[\u001b[0m\u001b[0;36m0\u001b[0m\u001b[0;34m]\u001b[0m \u001b[0;34m=\u001b[0m \u001b[0;36m10\u001b[0m  \u001b[0;31m# TypeError: 'tuple' object does not support item assignment\u001b[0m\u001b[0;34m\u001b[0m\u001b[0;34m\u001b[0m\u001b[0m\n\u001b[0m",
            "\u001b[0;31mTypeError\u001b[0m: 'tuple' object does not support item assignment"
          ]
        }
      ],
      "source": [
        "# This will raise an error\n",
        "numbers[0] = 10  # TypeError: 'tuple' object does not support item assignment\n"
      ]
    },
    {
      "cell_type": "markdown",
      "metadata": {
        "id": "oIh7sC775FIt"
      },
      "source": [
        "# Sets\n",
        "\n",
        "A set is an unordered collection of unique elements. Sets are mutable, but they do not allow duplicate items."
      ]
    },
    {
      "cell_type": "markdown",
      "metadata": {
        "id": "gJJY0wsG5e7A"
      },
      "source": [
        "No duplicate elements.\n",
        "Elements\n",
        "\n",
        "are unordered and unindexed.\n",
        "\n",
        "\n",
        "Supports operations like union, intersection, and difference.\n"
      ]
    },
    {
      "cell_type": "code",
      "execution_count": null,
      "metadata": {
        "id": "B81ux-G7gtDx"
      },
      "outputs": [],
      "source": [
        "my_set = {1, 2, 3}\n",
        "empty_set = set()  # Creates an empty set\n"
      ]
    },
    {
      "cell_type": "code",
      "execution_count": null,
      "metadata": {
        "colab": {
          "base_uri": "https://localhost:8080/"
        },
        "id": "i-LxnoWnhR3F",
        "outputId": "80d635b0-d218-4ad1-b479-4e06ac4d49b2"
      },
      "outputs": [
        {
          "name": "stdout",
          "output_type": "stream",
          "text": [
            "{1, 2, 3, 4, 5}\n",
            "{3}\n",
            "{1, 2}\n"
          ]
        }
      ],
      "source": [
        "# Union: Elements from both sets\n",
        "set1 = {1, 2, 3}\n",
        "set2 = {3, 4, 5}\n",
        "union_set = set1 | set2\n",
        "print(union_set)\n",
        "\n",
        "# Intersection: Elements common to both sets\n",
        "intersection_set = set1 & set2\n",
        "print(intersection_set)\n",
        "\n",
        "# Difference: Elements in set1 but not in set2\n",
        "difference_set = set1 - set2\n",
        "print(difference_set)\n",
        "\n"
      ]
    },
    {
      "cell_type": "markdown",
      "metadata": {
        "id": "fhYvC4oHhkHk"
      },
      "source": [
        "# Dictionaries"
      ]
    },
    {
      "cell_type": "markdown",
      "metadata": {
        "id": "ua9f2ONShpGn"
      },
      "source": [
        " A dictionary is a collection of key-value pairs.\n",
        "\n",
        " A dictionary is a collection which is ordered*, changeable and do not allow duplicates.\n",
        "\n",
        "\n",
        "\n",
        "\n",
        "\n"
      ]
    },
    {
      "cell_type": "code",
      "execution_count": null,
      "metadata": {
        "colab": {
          "base_uri": "https://localhost:8080/"
        },
        "id": "kJ10xUr-icxe",
        "outputId": "724aedfe-f510-4532-ae17-237b56ff610e"
      },
      "outputs": [
        {
          "name": "stdout",
          "output_type": "stream",
          "text": [
            "Alice\n"
          ]
        }
      ],
      "source": [
        "my_dict = {\"name\": \"Alice\", \"age\": 25}\n",
        "print(my_dict['name'])\n"
      ]
    },
    {
      "cell_type": "code",
      "execution_count": null,
      "metadata": {
        "id": "BNe5Tek2inFC"
      },
      "outputs": [],
      "source": [
        "# A dictionary with integer keys\n",
        "person = {1: \"Alice\", 2: \"Bob\", 3: \"Charlie\"}\n",
        "\n",
        "# A dictionary with string keys\n",
        "student = {\"name\": \"John\", \"age\": 25, \"major\": \"Computer Science\"}\n",
        "\n",
        "# An empty dictionary\n"
      ]
    },
    {
      "cell_type": "code",
      "execution_count": null,
      "metadata": {
        "colab": {
          "base_uri": "https://localhost:8080/"
        },
        "id": "7VqJqqWvjcLX",
        "outputId": "5d08603c-551f-415e-d6e1-54daa36ffdc3"
      },
      "outputs": [
        {
          "name": "stdout",
          "output_type": "stream",
          "text": [
            "John\n",
            "{'name': 'John', 'age': 26, 'major': 'Computer Science'}\n",
            "{'name': 'John', 'age': 26, 'major': 'Computer Science', 'graduation_year': 2024}\n"
          ]
        }
      ],
      "source": [
        "print(student[\"name\"])  # Outputs: John\n",
        "\n",
        "\n",
        "student[\"age\"] = 26\n",
        "print(student)  # Outputs: {'name': 'John', 'age': 26, 'major': 'Computer Science'}\n",
        "\n",
        "# Adding a new key-value pair\n",
        "student[\"graduation_year\"] = 2024\n",
        "print(student)  # Outputs: {'name': 'John', 'age': 26, 'major': 'Computer Science', 'graduation_year': 2024}"
      ]
    },
    {
      "cell_type": "markdown",
      "metadata": {
        "id": "RK-UIq5gGMGB"
      },
      "source": [
        "# python libraries\n",
        "\n",
        "\n",
        "\n",
        "\n",
        "1.Numpy\n",
        "\n",
        "2.pandas\n",
        "\n",
        "3.Matplotlib\n",
        "\n",
        "4.Seaborn\n",
        "\n",
        "5.Scikit-learn\n",
        "\n"
      ]
    },
    {
      "cell_type": "markdown",
      "metadata": {
        "id": "GwhMTYTbHHvZ"
      },
      "source": [
        "# *Numpy Library*"
      ]
    },
    {
      "cell_type": "markdown",
      "metadata": {
        "id": "PYVVZ59PHPGN"
      },
      "source": [
        "numpy is a python library.\n",
        "\n",
        "\n",
        "Numpy is used for working with arrays.\n",
        "\n",
        "Numpy stands for \"Numerical python\".\n",
        "\n",
        "NumPy was created in 2005 by Travis Oliphant. It is an open source project and you can use it freely.\n",
        "\n",
        "installation of numpy is \"pip install numpy\"\n"
      ]
    },
    {
      "cell_type": "markdown",
      "metadata": {
        "id": "iFbgT_VoIWft"
      },
      "source": [
        "# **Why we use numpy**"
      ]
    },
    {
      "cell_type": "markdown",
      "metadata": {
        "id": "_0MilmQOIg4k"
      },
      "source": [
        "NumPy aims to provide an array object that is up to 50x faster than traditional Python lists.\n",
        "\n",
        "The array object in NumPy is called ndarray.\n",
        "\n",
        "Arrays are very frequently used in data science."
      ]
    },
    {
      "cell_type": "markdown",
      "metadata": {
        "id": "K68lh1WmJbYN"
      },
      "source": [
        "# **Import NumPy**"
      ]
    },
    {
      "cell_type": "markdown",
      "metadata": {
        "id": "W8myQ1oXJmJv"
      },
      "source": [
        "import numpy or import numpy as np we use both import functions"
      ]
    },
    {
      "cell_type": "code",
      "execution_count": null,
      "metadata": {
        "colab": {
          "base_uri": "https://localhost:8080/"
        },
        "id": "PVRm11F1J5Os",
        "outputId": "1b5b0094-aaf8-4d8a-d344-f00f5c2b8123"
      },
      "outputs": [
        {
          "name": "stdout",
          "output_type": "stream",
          "text": [
            "[1 2 3 4 5]\n"
          ]
        }
      ],
      "source": [
        "import numpy\n",
        "\n",
        "arr = numpy.array([1, 2, 3, 4, 5])\n",
        "\n",
        "print(arr)"
      ]
    },
    {
      "cell_type": "markdown",
      "metadata": {
        "id": "A9Os8KCiKCtU"
      },
      "source": [
        "# **Numpy as np**\n",
        "\n",
        "\n",
        "\n",
        "NumPy is usually imported under the np alias.\n",
        "\n",
        "import numpy as np"
      ]
    },
    {
      "cell_type": "code",
      "execution_count": null,
      "metadata": {
        "colab": {
          "base_uri": "https://localhost:8080/"
        },
        "id": "YdFAaPxjKWIC",
        "outputId": "425cdbd6-7e85-4c43-8e3d-4a2be2ab45ff"
      },
      "outputs": [
        {
          "name": "stdout",
          "output_type": "stream",
          "text": [
            "[1 2 3 4 5]\n"
          ]
        }
      ],
      "source": [
        "import numpy as np\n",
        "\n",
        "arr = np.array([1, 2, 3, 4, 5])\n",
        "\n",
        "print(arr)"
      ]
    },
    {
      "cell_type": "markdown",
      "metadata": {
        "id": "dw8aKKiBK7ce"
      },
      "source": [
        "# **Create a NumPy ndarray Object**\n",
        "\n",
        "\n",
        "We can create a NumPy ndarray object by using the array() function."
      ]
    },
    {
      "cell_type": "code",
      "execution_count": null,
      "metadata": {
        "id": "LIgSSkmiLIJP"
      },
      "outputs": [],
      "source": [
        "import numpy as np\n",
        "\n",
        "arr = np.array([1, 2, 3, 4, 5])\n",
        "\n",
        "print(arr)\n",
        "\n",
        "print(type(arr))"
      ]
    },
    {
      "cell_type": "markdown",
      "metadata": {
        "id": "jmBqQtf1LVdZ"
      },
      "source": [
        "type(): This built-in Python function tells us the type of the object passed to it.\n",
        "\n",
        "To create an ndarray, we can pass a list, tuple or any array-like object into the array() method, and it will be converted into an ndarray:"
      ]
    },
    {
      "cell_type": "code",
      "execution_count": null,
      "metadata": {
        "id": "I0pMH8VRLffz"
      },
      "outputs": [],
      "source": [
        "import numpy as np\n",
        "\n",
        "arr = np.array((1, 2, 3, 4, 5))\n",
        "\n",
        "print(arr)\n",
        "#using tuple"
      ]
    },
    {
      "cell_type": "markdown",
      "metadata": {
        "id": "kYmWWf5BLqxs"
      },
      "source": [
        "# Dimensions in Arrays\n",
        "\n",
        "# 0-D Arrays\n",
        "\n",
        "0-D arrays, or Scalars, are the elements in an array. Each value in an array is a 0-D array."
      ]
    },
    {
      "cell_type": "code",
      "execution_count": null,
      "metadata": {
        "id": "6bCLmRYrMMBH"
      },
      "outputs": [],
      "source": [
        "#Create a 0-D array with value 42\n",
        "import numpy as np\n",
        "\n",
        "arr = np.array(42)\n",
        "\n",
        "print(arr)"
      ]
    },
    {
      "cell_type": "markdown",
      "metadata": {
        "id": "kMEkWZMsMihH"
      },
      "source": [
        "# 1-D arrays\n",
        "\n",
        "An array that has 0-D arrays as its elements is called uni-dimensional or 1-D array.\n",
        "\n",
        "These are the most common and basic arrays."
      ]
    },
    {
      "cell_type": "code",
      "execution_count": null,
      "metadata": {
        "colab": {
          "base_uri": "https://localhost:8080/"
        },
        "id": "e9-i0WXrMw1A",
        "outputId": "ed42ec02-da55-4e2f-f99e-3620c7b8fca8"
      },
      "outputs": [
        {
          "name": "stdout",
          "output_type": "stream",
          "text": [
            "[1 2 3 4 5]\n"
          ]
        }
      ],
      "source": [
        "import numpy as np\n",
        "\n",
        "arr = np.array([1, 2, 3, 4, 5])\n",
        "\n",
        "print(arr)"
      ]
    },
    {
      "cell_type": "markdown",
      "metadata": {
        "id": "yM59TUp_M0Zl"
      },
      "source": [
        "# 2-D Arrays\n",
        "\n",
        "An array that has 1-D arrays as its elements is called a 2-D array."
      ]
    },
    {
      "cell_type": "code",
      "execution_count": null,
      "metadata": {
        "colab": {
          "base_uri": "https://localhost:8080/"
        },
        "id": "zz1A1ThHOKAL",
        "outputId": "2bad0042-b6aa-4f9e-9593-a962fa100d28"
      },
      "outputs": [
        {
          "name": "stdout",
          "output_type": "stream",
          "text": [
            "[[1 2 3]\n",
            " [4 5 6]]\n"
          ]
        }
      ],
      "source": [
        "import numpy as np\n",
        "\n",
        "arr = np.array([[1, 2, 3], [4, 5, 6]])\n",
        "\n",
        "print(arr)"
      ]
    },
    {
      "cell_type": "markdown",
      "metadata": {
        "id": "0tDe5x4ZNcJH"
      },
      "source": [
        "## **3-D arrays**\n",
        "\n",
        "An array that has 2-D arrays (matrices) as its elements is called 3-D array."
      ]
    },
    {
      "cell_type": "code",
      "execution_count": null,
      "metadata": {
        "colab": {
          "base_uri": "https://localhost:8080/"
        },
        "id": "gYVU42iLNtUB",
        "outputId": "869af6af-ad6c-4e1a-a67f-6c7b7124f2d7"
      },
      "outputs": [
        {
          "name": "stdout",
          "output_type": "stream",
          "text": [
            "[[[1 2 3]\n",
            "  [4 5 6]]\n",
            "\n",
            " [[1 2 3]\n",
            "  [4 5 6]]]\n"
          ]
        }
      ],
      "source": [
        "import numpy as np\n",
        "\n",
        "arr = np.array([[[1, 2, 3], [4, 5, 6]], [[1, 2, 3], [4, 5, 6]]])\n",
        "\n",
        "print(arr)"
      ]
    },
    {
      "cell_type": "markdown",
      "metadata": {
        "id": "O_KMq0w0U0Yo"
      },
      "source": [
        "# ***Numpy array indexing ***\n",
        "\n",
        "# Access Array Elements\n",
        "\n",
        "Array indexing is the same as accessing an array element.\n",
        "\n",
        "You can access an array element by referring to its index number.\n",
        "\n",
        "The indexes in NumPy arrays start with 0, meaning that the first element has index 0, and the second has index 1 etc."
      ]
    },
    {
      "cell_type": "code",
      "execution_count": null,
      "metadata": {
        "colab": {
          "base_uri": "https://localhost:8080/"
        },
        "id": "VNJ5rubeValn",
        "outputId": "1117fad8-e0f6-441e-960b-6f1098c16f63"
      },
      "outputs": [
        {
          "name": "stdout",
          "output_type": "stream",
          "text": [
            "1\n",
            "2\n",
            "5\n"
          ]
        }
      ],
      "source": [
        "import numpy as np\n",
        "\n",
        "arr = np.array([1, 2, 3, 4])\n",
        "\n",
        "print(arr[0])\n",
        "print(arr[1])\n",
        "print(arr[1]+arr[2])"
      ]
    },
    {
      "cell_type": "markdown",
      "metadata": {
        "id": "aoPxb5MZVtVp"
      },
      "source": [
        "# **Access 2-D Arrays**\n",
        "To access elements from 2-D arrays we can use comma separated integers representing the dimension and the index of the element.\n"
      ]
    },
    {
      "cell_type": "code",
      "execution_count": null,
      "metadata": {
        "colab": {
          "base_uri": "https://localhost:8080/"
        },
        "id": "TzquSJP1WCRI",
        "outputId": "9bbf3038-9772-4fee-f640-6fa0b0850e7a"
      },
      "outputs": [
        {
          "name": "stdout",
          "output_type": "stream",
          "text": [
            "2nd element on 2nd row:  2\n"
          ]
        }
      ],
      "source": [
        "import numpy as np\n",
        "\n",
        "arr = np.array([[1,2,3,4,5], [6,7,8,9,10]])\n",
        "\n",
        "print( arr[0, 1])"
      ]
    },
    {
      "cell_type": "code",
      "execution_count": null,
      "metadata": {
        "colab": {
          "base_uri": "https://localhost:8080/"
        },
        "id": "6pk3T0URWHHv",
        "outputId": "df101d47-34c9-459e-f0c3-7a2e6eb89c12"
      },
      "outputs": [
        {
          "output_type": "stream",
          "name": "stdout",
          "text": [
            "10\n"
          ]
        }
      ],
      "source": [
        "import numpy as np\n",
        "\n",
        "arr = np.array([[1,2,3,4,5], [6,7,8,9,10]])\n",
        "\n",
        "print( arr[1, 4])"
      ]
    },
    {
      "cell_type": "markdown",
      "metadata": {
        "id": "ll7M5R1SWOcs"
      },
      "source": [
        "# Access 3-D Arrays\n",
        "\n",
        "To access elements from 3-D arrays we can use comma separated integers representing the dimensions and the index of the element."
      ]
    },
    {
      "cell_type": "code",
      "execution_count": null,
      "metadata": {
        "colab": {
          "base_uri": "https://localhost:8080/"
        },
        "id": "9oDHJHejWVc6",
        "outputId": "c653ee5c-ee32-4271-eb82-fb432adc0176"
      },
      "outputs": [
        {
          "name": "stdout",
          "output_type": "stream",
          "text": [
            "6\n"
          ]
        }
      ],
      "source": [
        "import numpy as np\n",
        "\n",
        "arr = np.array([[[1, 2, 3], [4, 5, 6]], [[7, 8, 9], [10, 11, 12]]])\n",
        "\n",
        "print(arr[0, 1, 2])"
      ]
    },
    {
      "cell_type": "markdown",
      "metadata": {
        "id": "v3kxk-ZbWYul"
      },
      "source": [
        "\n",
        "# **Negative Indexing**\n",
        "\n",
        "Use negative indexing to access an array from the end."
      ]
    },
    {
      "cell_type": "code",
      "execution_count": null,
      "metadata": {
        "colab": {
          "base_uri": "https://localhost:8080/"
        },
        "id": "W12TdC2QWjAS",
        "outputId": "3a73f905-86de-468b-a024-b32155ab0c61"
      },
      "outputs": [
        {
          "name": "stdout",
          "output_type": "stream",
          "text": [
            "Last element from 2nd dim:  10\n"
          ]
        }
      ],
      "source": [
        "#Print the last element from the 2nd dim:\n",
        "import numpy as np\n",
        "\n",
        "arr = np.array([[1,2,3,4,5], [6,7,8,9,10]])\n",
        "\n",
        "print('Last element from 2nd dim: ', arr[1, -1])"
      ]
    },
    {
      "cell_type": "markdown",
      "metadata": {
        "id": "tjAjzVRaX0MM"
      },
      "source": [
        "# ***NumPy Array Slicing***\n",
        "\n",
        "# Slicing arrays\n",
        "Slicing in python means taking elements from one given index to another given index.\n",
        "\n",
        "We pass slice instead of index like this: [start:end].\n",
        "\n",
        "We can also define the step, like this: [start:end:step].\n",
        "\n",
        "If we don't pass start its considered 0\n",
        "\n",
        "If we don't pass end its considered length of array in that dimension\n",
        "\n",
        "If we don't pass step its considered 1\n",
        "\n",
        "\n",
        "\n",
        "\n",
        "\n",
        "\n",
        "\n"
      ]
    },
    {
      "cell_type": "code",
      "execution_count": null,
      "metadata": {
        "colab": {
          "base_uri": "https://localhost:8080/"
        },
        "id": "Vx4CFs90YLfq",
        "outputId": "f8dae7f8-8dda-496d-bdd2-97e450807c37"
      },
      "outputs": [
        {
          "name": "stdout",
          "output_type": "stream",
          "text": [
            "[2 3 4 5]\n"
          ]
        }
      ],
      "source": [
        "import numpy as np\n",
        "\n",
        "arr = np.array([1, 2, 3, 4, 5, 6, 7])\n",
        "\n",
        "print(arr[1:5])"
      ]
    },
    {
      "cell_type": "code",
      "execution_count": null,
      "metadata": {
        "colab": {
          "base_uri": "https://localhost:8080/"
        },
        "id": "hlp2gY7nYO8f",
        "outputId": "a12d9106-de40-4dd7-f8c1-c12f825380d9"
      },
      "outputs": [
        {
          "name": "stdout",
          "output_type": "stream",
          "text": [
            "[5 6 7]\n"
          ]
        }
      ],
      "source": [
        "#Slice elements from index 4 to the end of the array:\n",
        "import numpy as np\n",
        "\n",
        "arr = np.array([1, 2, 3, 4, 5, 6, 7])\n",
        "\n",
        "print(arr[4:])\n"
      ]
    },
    {
      "cell_type": "code",
      "execution_count": null,
      "metadata": {
        "colab": {
          "base_uri": "https://localhost:8080/"
        },
        "id": "tbR1-sbUYW2u",
        "outputId": "b8612137-b414-448c-b3e8-859234b6378b"
      },
      "outputs": [
        {
          "name": "stdout",
          "output_type": "stream",
          "text": [
            "[1 2 3 4]\n"
          ]
        }
      ],
      "source": [
        "\n",
        "import numpy as np\n",
        "\n",
        "arr = np.array([1, 2, 3, 4, 5, 6, 7])\n",
        "\n",
        "print(arr[:4])\n",
        "\n"
      ]
    },
    {
      "cell_type": "code",
      "execution_count": null,
      "metadata": {
        "colab": {
          "base_uri": "https://localhost:8080/"
        },
        "id": "FlC_hBvOYgDi",
        "outputId": "d50ecde6-541d-4fc3-ebe2-8a2362d88579"
      },
      "outputs": [
        {
          "name": "stdout",
          "output_type": "stream",
          "text": [
            "[5 6]\n"
          ]
        }
      ],
      "source": [
        "import numpy as np\n",
        "\n",
        "arr = np.array([1, 2, 3, 4, 5, 6, 7])\n",
        "\n",
        "print(arr[-3:-1])\n",
        "#\n",
        "#Slice from the index 3 from the end to index 1 from the end:"
      ]
    },
    {
      "cell_type": "code",
      "execution_count": null,
      "metadata": {
        "colab": {
          "base_uri": "https://localhost:8080/"
        },
        "id": "4v8X398hYr91",
        "outputId": "1552c1ca-f100-44e2-aafd-5a72edc6abc4"
      },
      "outputs": [
        {
          "name": "stdout",
          "output_type": "stream",
          "text": [
            "[2 4]\n"
          ]
        }
      ],
      "source": [
        "import numpy as np\n",
        "\n",
        "arr = np.array([1, 2, 3, 4, 5, 6, 7])\n",
        "\n",
        "print(arr[1:5:2])\n",
        "#step"
      ]
    },
    {
      "cell_type": "code",
      "execution_count": null,
      "metadata": {
        "colab": {
          "base_uri": "https://localhost:8080/"
        },
        "id": "9lEM4H4_YzIW",
        "outputId": "1c4db525-60fa-48ac-c344-7f3c0d413933"
      },
      "outputs": [
        {
          "name": "stdout",
          "output_type": "stream",
          "text": [
            "[1 2 3 4 5 6 7]\n"
          ]
        }
      ],
      "source": [
        "import numpy as np\n",
        "\n",
        "arr = np.array([1, 2, 3, 4, 5, 6, 7])\n",
        "\n",
        "print(arr[::1])\n",
        "#Return every other element from the entire array:"
      ]
    },
    {
      "cell_type": "markdown",
      "metadata": {
        "id": "_p2Y8xxnY-SU"
      },
      "source": [
        "# Slicing 2-d array\n",
        "\n",
        "\n",
        "From the second element, slice elements from index 1 to index 4 (not included):"
      ]
    },
    {
      "cell_type": "code",
      "execution_count": null,
      "metadata": {
        "colab": {
          "base_uri": "https://localhost:8080/"
        },
        "id": "zayjHyeDZQs2",
        "outputId": "29cf9a59-c844-479b-b0ac-463dd9242242"
      },
      "outputs": [
        {
          "name": "stdout",
          "output_type": "stream",
          "text": [
            "[7 8 9]\n"
          ]
        }
      ],
      "source": [
        "import numpy as np\n",
        "\n",
        "arr = np.array([[1, 2, 3, 4, 5], [6, 7, 8, 9, 10]])\n",
        "\n",
        "print(arr[1, 1:4])\n"
      ]
    },
    {
      "cell_type": "markdown",
      "metadata": {
        "id": "5cL7d8i5aetf"
      },
      "source": [
        "# Data Types in NumPy\n",
        "\n",
        "Below is a list of all data types in NumPy and the characters used to represent them.\n",
        "\n",
        "i - integer\n",
        "b - boolean\n",
        "u - unsigned integer\n",
        "f - float\n",
        "c - complex float\n",
        "m - timedelta\n",
        "M - datetime\n",
        "O - object\n",
        "S - string\n",
        "U - unicode string\n",
        "V - fixed chunk of memory for other type ( void )"
      ]
    },
    {
      "cell_type": "code",
      "execution_count": null,
      "metadata": {
        "colab": {
          "base_uri": "https://localhost:8080/"
        },
        "id": "5X5CiqCja0bK",
        "outputId": "365a48c2-dc8a-4397-a7f9-34d8452f8273"
      },
      "outputs": [
        {
          "name": "stdout",
          "output_type": "stream",
          "text": [
            "int64\n"
          ]
        }
      ],
      "source": [
        "#Get the data type of an array object:\n",
        "import numpy as np\n",
        "\n",
        "arr = np.array([1, 2, 3, 4])\n",
        "\n",
        "print(arr.dtype)"
      ]
    },
    {
      "cell_type": "code",
      "execution_count": null,
      "metadata": {
        "colab": {
          "base_uri": "https://localhost:8080/"
        },
        "id": "lyJ4Va-4bBwV",
        "outputId": "56019495-e421-41ed-d5ad-7dc87066d646"
      },
      "outputs": [
        {
          "name": "stdout",
          "output_type": "stream",
          "text": [
            "<U6\n"
          ]
        }
      ],
      "source": [
        "import numpy as np\n",
        "\n",
        "arr = np.array(['apple', 'banana', 'cherry'])\n",
        "\n",
        "print(arr.dtype)\n",
        "#Get the data type of an array containing strings:"
      ]
    },
    {
      "cell_type": "code",
      "execution_count": null,
      "metadata": {
        "colab": {
          "base_uri": "https://localhost:8080/"
        },
        "id": "FXeFy02zbOvj",
        "outputId": "2c77fb6f-2e23-4f8d-9a31-7fc694380134"
      },
      "outputs": [
        {
          "name": "stdout",
          "output_type": "stream",
          "text": [
            "[b'1' b'2' b'3' b'4']\n",
            "|S1\n"
          ]
        }
      ],
      "source": [
        "import numpy as np\n",
        "\n",
        "arr = np.array([1, 2, 3, 4], dtype='S')\n",
        "\n",
        "print(arr)\n",
        "print(arr.dtype)\n",
        "#Create an array with data type string:"
      ]
    },
    {
      "cell_type": "markdown",
      "metadata": {
        "id": "xSV9YpA7cApU"
      },
      "source": [
        "# NumPy Array Copy vs View\n",
        "\n",
        "The Difference Between Copy and View\n",
        "The main difference between a copy and a view of an array is that the copy is a new array, and the view is just a view of the original array.\n",
        "\n"
      ]
    },
    {
      "cell_type": "code",
      "execution_count": null,
      "metadata": {
        "colab": {
          "base_uri": "https://localhost:8080/"
        },
        "id": "IGgFFzNaeZ9w",
        "outputId": "74c21d9b-7e48-4218-bb3a-1c16ff469e69"
      },
      "outputs": [
        {
          "name": "stdout",
          "output_type": "stream",
          "text": [
            "[42  2  3  4  5]\n",
            "[1 2 3 4 5]\n"
          ]
        }
      ],
      "source": [
        "#Make a copy, change the original array, and display both arrays:\n",
        "import numpy as np\n",
        "\n",
        "arr = np.array([1, 2, 3, 4, 5])\n",
        "x = arr.copy()\n",
        "arr[0] = 42\n",
        "\n",
        "print(arr)\n",
        "print(x)"
      ]
    },
    {
      "cell_type": "code",
      "execution_count": null,
      "metadata": {
        "colab": {
          "base_uri": "https://localhost:8080/"
        },
        "id": "O-NvEhpqeiaP",
        "outputId": "3c4cfef9-27e3-4227-cdbd-ca3cda933b1e"
      },
      "outputs": [
        {
          "name": "stdout",
          "output_type": "stream",
          "text": [
            "[42  2  3  4  5]\n",
            "[42  2  3  4  5]\n"
          ]
        }
      ],
      "source": [
        "#example of view\n",
        "import numpy as np\n",
        "\n",
        "arr = np.array([1, 2, 3, 4, 5])\n",
        "x = arr.view()\n",
        "arr[0] = 42\n",
        "\n",
        "print(arr)\n",
        "print(x)"
      ]
    },
    {
      "cell_type": "markdown",
      "metadata": {
        "id": "ix_MHYF_fy7-"
      },
      "source": [
        "# Shape of an Array\n",
        "\n",
        "The shape of an array is the number of elements in each dimension."
      ]
    },
    {
      "cell_type": "code",
      "execution_count": null,
      "metadata": {
        "colab": {
          "base_uri": "https://localhost:8080/"
        },
        "id": "X4xGfraqf6vJ",
        "outputId": "19325d19-2e10-4570-9b07-41d11123e4f8"
      },
      "outputs": [
        {
          "name": "stdout",
          "output_type": "stream",
          "text": [
            "(2, 4)\n"
          ]
        }
      ],
      "source": [
        "import numpy as np\n",
        "\n",
        "arr = np.array([[1, 2, 3, 4], [5, 6, 7, 8]])\n",
        "\n",
        "print(arr.shape)#Print the shape of a 2-D array:"
      ]
    },
    {
      "cell_type": "markdown",
      "metadata": {
        "id": "hOJ8MT1HgP6z"
      },
      "source": [
        "# NumPy Array Reshaping\n",
        "\n",
        "Reshaping means changing the shape of an array.\n",
        "\n",
        "The shape of an array is the number of elements in each dimension."
      ]
    },
    {
      "cell_type": "code",
      "execution_count": null,
      "metadata": {
        "colab": {
          "base_uri": "https://localhost:8080/"
        },
        "id": "ubq6vkjDgd8t",
        "outputId": "473f238e-5206-40bb-c563-cbc9b4f951d7"
      },
      "outputs": [
        {
          "name": "stdout",
          "output_type": "stream",
          "text": [
            "[[ 1  2  3]\n",
            " [ 4  5  6]\n",
            " [ 7  8  9]\n",
            " [10 11 12]]\n"
          ]
        }
      ],
      "source": [
        "import numpy as np\n",
        "\n",
        "arr = np.array([1, 2, 3, 4, 5, 6, 7, 8, 9, 10, 11, 12])\n",
        "\n",
        "newarr = arr.reshape(4, 3)\n",
        "\n",
        "print(newarr)\n",
        "\n",
        "#Convert the following 1-D array with 12 elements into a 2-D array.\n",
        "\n",
        "#The outermost dimension will have 4 arrays, each with 3 elements:\n",
        "\n"
      ]
    },
    {
      "cell_type": "markdown",
      "metadata": {
        "id": "kaoifVPKhJ1T"
      },
      "source": [
        "# Sorting Arrays\n",
        "\n",
        "Sorting means putting elements in an ordered sequence."
      ]
    },
    {
      "cell_type": "code",
      "execution_count": null,
      "metadata": {
        "colab": {
          "base_uri": "https://localhost:8080/"
        },
        "id": "CUmztKX2hPOs",
        "outputId": "afa17ecd-332e-43fc-8cca-cd3f466b8615"
      },
      "outputs": [
        {
          "name": "stdout",
          "output_type": "stream",
          "text": [
            "[0 1 2 3]\n"
          ]
        }
      ],
      "source": [
        "import numpy as np\n",
        "\n",
        "arr = np.array([3, 2, 0, 1])\n",
        "\n",
        "print(np.sort(arr))"
      ]
    },
    {
      "cell_type": "code",
      "execution_count": null,
      "metadata": {
        "colab": {
          "base_uri": "https://localhost:8080/"
        },
        "id": "GGkqjbsShWDP",
        "outputId": "3ad30340-19b5-4b5f-f031-07d5da757e72"
      },
      "outputs": [
        {
          "name": "stdout",
          "output_type": "stream",
          "text": [
            "['apple' 'banana' 'cherry']\n"
          ]
        }
      ],
      "source": [
        "import numpy as np\n",
        "\n",
        "arr = np.array(['banana', 'cherry', 'apple'])\n",
        "\n",
        "print(np.sort(arr))#Sort the array alphabetically:"
      ]
    },
    {
      "cell_type": "markdown",
      "metadata": {
        "id": "t1DBPrq3jHbo"
      },
      "source": [
        "# ***Pandas ***\n",
        "\n",
        "What is Pandas?\n",
        "\n",
        "Pandas is a Python library used for working with data sets.\n",
        "\n",
        "It has functions for analyzing, cleaning, exploring, and manipulating data.\n",
        "\n",
        "Installation of pandas is import pandas as pd"
      ]
    },
    {
      "cell_type": "code",
      "execution_count": null,
      "metadata": {
        "colab": {
          "base_uri": "https://localhost:8080/"
        },
        "id": "jDP08AlElZD6",
        "outputId": "26b60865-4ad0-4322-c0f1-28cc227ffd61"
      },
      "outputs": [
        {
          "name": "stdout",
          "output_type": "stream",
          "text": [
            "    cars  passings\n",
            "0    BMW         3\n",
            "1  Volvo         7\n",
            "2   Ford         2\n"
          ]
        }
      ],
      "source": [
        "\n",
        "import pandas as pd\n",
        "\n",
        "mydataset = {\n",
        "  'cars': [\"BMW\", \"Volvo\", \"Ford\"],\n",
        "  'passings': [3, 7, 2]\n",
        "}\n",
        "\n",
        "myvar = pd.DataFrame(mydataset)\n",
        "\n",
        "print(myvar)"
      ]
    },
    {
      "cell_type": "markdown",
      "metadata": {
        "id": "RthEuLtupz9z"
      },
      "source": [
        "# **What is a Series?**\n",
        "A Pandas Series is like a column in a table.\n",
        "\n",
        "It is a one-dimensional array holding data of any type."
      ]
    },
    {
      "cell_type": "code",
      "execution_count": null,
      "metadata": {
        "colab": {
          "base_uri": "https://localhost:8080/"
        },
        "id": "8VKz6zO3p9lr",
        "outputId": "5a0a4724-9fc3-4bde-ff1f-690b8ca08f32"
      },
      "outputs": [
        {
          "name": "stdout",
          "output_type": "stream",
          "text": [
            "0    1\n",
            "1    7\n",
            "2    2\n",
            "dtype: int64\n"
          ]
        }
      ],
      "source": [
        "import pandas as pd\n",
        "\n",
        "a = [1, 7, 2]\n",
        "\n",
        "myvar = pd.Series(a)\n",
        "\n",
        "print(myvar)"
      ]
    },
    {
      "cell_type": "markdown",
      "metadata": {
        "id": "qwpysHYZqIto"
      },
      "source": [
        "# Labels\n",
        "\n",
        "If nothing else is specified, the values are labeled with their index number. First value has index 0, second value has index 1 etc.\n",
        "\n",
        "This label can be used to access a specified value."
      ]
    },
    {
      "cell_type": "code",
      "execution_count": null,
      "metadata": {
        "colab": {
          "base_uri": "https://localhost:8080/"
        },
        "id": "LqlQJx6jqjEh",
        "outputId": "1053338c-9456-4641-e1d5-a91ed4c38162"
      },
      "outputs": [
        {
          "name": "stdout",
          "output_type": "stream",
          "text": [
            "1\n"
          ]
        }
      ],
      "source": [
        "print(myvar[0])#Return the first value of the Series:"
      ]
    },
    {
      "cell_type": "markdown",
      "metadata": {
        "id": "DAmfWbdeqxTf"
      },
      "source": [
        "# create Labels\n",
        "\n",
        "With the index argument, you can name your own labels.\n"
      ]
    },
    {
      "cell_type": "code",
      "execution_count": null,
      "metadata": {
        "colab": {
          "base_uri": "https://localhost:8080/"
        },
        "id": "lKIoRmKZqu0n",
        "outputId": "75e9866a-5a8e-4fe9-f18b-7c87e0684df5"
      },
      "outputs": [
        {
          "name": "stdout",
          "output_type": "stream",
          "text": [
            "x    1\n",
            "y    7\n",
            "z    2\n",
            "dtype: int64\n",
            "7\n"
          ]
        }
      ],
      "source": [
        "#Create your own labels:\n",
        "\n",
        "import pandas as pd\n",
        "\n",
        "a = [1, 7, 2]\n",
        "\n",
        "myvar = pd.Series(a, index = [\"x\", \"y\", \"z\"])\n",
        "\n",
        "print(myvar)\n",
        "print(myvar[\"y\"])"
      ]
    },
    {
      "cell_type": "markdown",
      "metadata": {
        "id": "UqgEFyF1rMyo"
      },
      "source": [
        "# Key/Value Objects as Series\n",
        "\n",
        "You can also use a key/value object, like a dictionary, when creating a Series."
      ]
    },
    {
      "cell_type": "code",
      "execution_count": null,
      "metadata": {
        "colab": {
          "base_uri": "https://localhost:8080/"
        },
        "id": "5Vy7h80PrR8M",
        "outputId": "6a4f08be-3b2e-4a90-8649-88956b4b2e9f"
      },
      "outputs": [
        {
          "name": "stdout",
          "output_type": "stream",
          "text": [
            "day1    420\n",
            "day2    380\n",
            "day3    390\n",
            "dtype: int64\n"
          ]
        }
      ],
      "source": [
        "#create a simple Pandas Series from a dictionary:\n",
        "\n",
        "import pandas as pd\n",
        "\n",
        "calories = {\"day1\": 420, \"day2\": 380, \"day3\": 390}\n",
        "\n",
        "myvar = pd.Series(calories)\n",
        "\n",
        "print(myvar)"
      ]
    },
    {
      "cell_type": "code",
      "execution_count": null,
      "metadata": {
        "colab": {
          "base_uri": "https://localhost:8080/"
        },
        "id": "CAQsHz73rb8v",
        "outputId": "46f45c4c-67b1-4100-a5df-574633bf72ad"
      },
      "outputs": [
        {
          "name": "stdout",
          "output_type": "stream",
          "text": [
            "day1    420\n",
            "day2    380\n",
            "dtype: int64\n"
          ]
        }
      ],
      "source": [
        "#Create a Series using only data from \"day1\" and \"day2\":\n",
        "\n",
        "import pandas as pd\n",
        "\n",
        "calories = {\"day1\": 420, \"day2\": 380, \"day3\": 390}\n",
        "\n",
        "myvar = pd.Series(calories, index = [\"day1\", \"day2\"])\n",
        "\n",
        "print(myvar)"
      ]
    },
    {
      "cell_type": "markdown",
      "metadata": {
        "id": "dCbsveTWre8o"
      },
      "source": [
        "# **DataFrames**\n",
        "\n",
        "Data sets in Pandas are usually multi-dimensional tables, called DataFrames.\n",
        "\n",
        "Series is like a column, a DataFrame is the whole table."
      ]
    },
    {
      "cell_type": "code",
      "execution_count": null,
      "metadata": {
        "colab": {
          "base_uri": "https://localhost:8080/"
        },
        "id": "ppDSdnhvrqFh",
        "outputId": "3d2086fa-1af7-42e9-fdb3-6d66c38ff14b"
      },
      "outputs": [
        {
          "name": "stdout",
          "output_type": "stream",
          "text": [
            "   calories  duration\n",
            "0       420        50\n",
            "1       380        40\n",
            "2       390        45\n"
          ]
        }
      ],
      "source": [
        "#Create a DataFrame from two Series:\n",
        "\n",
        "import pandas as pd\n",
        "\n",
        "data = {\n",
        "  \"calories\": [420, 380, 390],\n",
        "  \"duration\": [50, 40, 45]\n",
        "}\n",
        "\n",
        "myvar = pd.DataFrame(data)\n",
        "\n",
        "print(myvar)"
      ]
    },
    {
      "cell_type": "markdown",
      "metadata": {
        "id": "PDCUk5-ntLx4"
      },
      "source": [
        "# What is a DataFrame?\n",
        "A Pandas DataFrame is a 2 dimensional data structure, like a 2 dimensional array, or a table with rows and columns."
      ]
    },
    {
      "cell_type": "code",
      "execution_count": null,
      "metadata": {
        "colab": {
          "base_uri": "https://localhost:8080/"
        },
        "id": "k0luYgzwtUfs",
        "outputId": "ccc2e8f5-32ea-4f5e-dd25-b412438694b3"
      },
      "outputs": [
        {
          "name": "stdout",
          "output_type": "stream",
          "text": [
            "   calories  duration\n",
            "0       420        50\n",
            "1       380        40\n",
            "2       390        45\n",
            "calories    420\n",
            "duration     50\n",
            "Name: 0, dtype: int64\n"
          ]
        }
      ],
      "source": [
        "\n",
        "\n",
        "\n",
        "\n",
        "\n",
        "#Create a simple Pandas DataFrame:\n",
        "\n",
        "import pandas as pd\n",
        "\n",
        "data = {\n",
        "  \"calories\": [420, 380, 390],\n",
        "  \"duration\": [50, 40, 45]\n",
        "}\n",
        "\n",
        "#load data into a DataFrame object:\n",
        "df = pd.DataFrame(data)\n",
        "\n",
        "print(df)\n",
        "print(df.loc[0])"
      ]
    },
    {
      "cell_type": "markdown",
      "metadata": {
        "id": "O5z4nEDBthEv"
      },
      "source": [
        "**Named Indexes**\n",
        "With the index argument, you can name your own indexes."
      ]
    },
    {
      "cell_type": "code",
      "execution_count": null,
      "metadata": {
        "id": "AHNAcWHOtoeQ"
      },
      "outputs": [],
      "source": [
        "Add a list of names to give each row a name:\n",
        "\n",
        "import pandas as pd\n",
        "\n",
        "data = {\n",
        "  \"calories\": [420, 380, 390],\n",
        "  \"duration\": [50, 40, 45]\n",
        "}\n",
        "\n",
        "df = pd.DataFrame(data, index = [\"day1\", \"day2\", \"day3\"])\n",
        "\n",
        "print(df)\n",
        "print(df.loc[\"day2\"])"
      ]
    },
    {
      "cell_type": "markdown",
      "metadata": {
        "id": "P1wJ_Lk4twVf"
      },
      "source": [
        "# *Load Files Into a DataFrame*\n",
        "If your data sets are stored in a file, Pandas can load them into a DataFrame."
      ]
    },
    {
      "cell_type": "code",
      "execution_count": null,
      "metadata": {
        "id": "nIUxwR8nt21V"
      },
      "outputs": [],
      "source": [
        "import pandas as pd\n",
        "\n",
        "df = pd.read_csv('data.csv')\n",
        "\n",
        "print(df)"
      ]
    },
    {
      "cell_type": "code",
      "execution_count": null,
      "metadata": {
        "colab": {
          "background_save": true
        },
        "id": "_w5ykfZZuNeS",
        "outputId": "2bd0e5ae-855c-4400-e77c-6f2c10ca1dd2"
      },
      "outputs": [
        {
          "name": "stdout",
          "output_type": "stream",
          "text": [
            "60\n"
          ]
        }
      ],
      "source": [
        "#check the number of maximum returned rows:\n",
        "\n",
        "import pandas as pd\n",
        "\n",
        "print(pd.options.display.max_rows)\n"
      ]
    },
    {
      "cell_type": "markdown",
      "metadata": {
        "id": "NeVaVCmGummy"
      },
      "source": [
        "# Pandas - Analyzing DataFrames\n",
        "# Viewing the Data\n",
        "One of the most used method for getting a quick overview of the DataFrame, is the head() method.\n",
        "\n",
        "The head() method returns the headers and a specified number of rows, starting from the top."
      ]
    },
    {
      "cell_type": "code",
      "execution_count": null,
      "metadata": {
        "id": "8ttE8104ux45"
      },
      "outputs": [],
      "source": [
        "#Get a quick overview by printing the first 10 rows of the DataFrame:\n",
        "\n",
        "import pandas as pd\n",
        "\n",
        "df = pd.read_csv('data.csv')\n",
        "\n",
        "print(df.head(10))"
      ]
    },
    {
      "cell_type": "markdown",
      "metadata": {
        "id": "BGuaOZ42u5o5"
      },
      "source": [
        "There is also a tail() method for viewing the last rows of the DataFrame.\n",
        "\n",
        "The tail() method returns the headers and a specified number of rows, starting from the bottom."
      ]
    },
    {
      "cell_type": "code",
      "execution_count": null,
      "metadata": {
        "id": "04OYZCLgu7Nh"
      },
      "outputs": [],
      "source": [
        "print(df.tail())"
      ]
    },
    {
      "cell_type": "markdown",
      "metadata": {
        "id": "v-lO9YLhvA2U"
      },
      "source": [
        "# **Info About the Data**\n",
        "The DataFrames object has a method called info(), that gives you more information about the data set.\n",
        "\n"
      ]
    },
    {
      "cell_type": "code",
      "execution_count": null,
      "metadata": {
        "id": "ReRXGS5ovGJv"
      },
      "outputs": [],
      "source": [
        "\n",
        "#Print information about the data:\n",
        "\n",
        "print(df.info())"
      ]
    },
    {
      "cell_type": "markdown",
      "metadata": {
        "id": "rUEVH3bivdJK"
      },
      "source": [
        "# Data Cleaning\n",
        "\n",
        "Data cleaning means fixing bad data in your data set.\n",
        "\n",
        "Bad data could be:\n",
        "\n",
        "Empty cells\n",
        "Data in wrong format\n",
        "Wrong data\n",
        "Duplicates\n",
        "In this tutorial you will learn how to deal with all of them.\n",
        "\n"
      ]
    }
  ],
  "metadata": {
    "colab": {
      "provenance": [],
      "include_colab_link": true
    },
    "kernelspec": {
      "display_name": "Python 3",
      "name": "python3"
    },
    "language_info": {
      "name": "python"
    }
  },
  "nbformat": 4,
  "nbformat_minor": 0
}